{
  "nbformat": 4,
  "nbformat_minor": 0,
  "metadata": {
    "colab": {
      "provenance": [],
      "toc_visible": true,
      "authorship_tag": "ABX9TyN2tSqWVXlTazFSNVl17iAf",
      "include_colab_link": true
    },
    "kernelspec": {
      "name": "python3",
      "display_name": "Python 3"
    },
    "language_info": {
      "name": "python"
    }
  },
  "cells": [
    {
      "cell_type": "markdown",
      "metadata": {
        "id": "view-in-github",
        "colab_type": "text"
      },
      "source": [
        "<a href=\"https://colab.research.google.com/github/7ossamRefaa3y/jobot/blob/main/WEBSCRAP.ipynb\" target=\"_parent\"><img src=\"https://colab.research.google.com/assets/colab-badge.svg\" alt=\"Open In Colab\"/></a>"
      ]
    },
    {
      "cell_type": "code",
      "execution_count": null,
      "metadata": {
        "id": "jfCMtubICQeF"
      },
      "outputs": [],
      "source": []
    },
    {
      "cell_type": "code",
      "source": [],
      "metadata": {
        "id": "wVV_ukLzEnmI"
      },
      "execution_count": null,
      "outputs": []
    },
    {
      "cell_type": "code",
      "source": [
        "# prompt: want to make web scraping for oil prices and brands in egypt  from url \"https://www.amazon.eg/ref=cs_404_logo?language=en_AE\"\n",
        "\n",
        "import requests\n",
        "from bs4 import BeautifulSoup\n",
        "\n",
        "\n",
        "def scrape_oil_prices(url):\n",
        "    \"\"\"\n",
        "    Scrapes oil prices and brands from the given URL.  This is a placeholder\n",
        "    and needs to be adapted to the target website's structure.  Amazon uses\n",
        "    significant Javascript, so a different scraping approach may be needed.\n",
        "    \"\"\"\n",
        "    try:\n",
        "        response = requests.get(url)\n",
        "        response.raise_for_status()\n",
        "\n",
        "        soup = BeautifulSoup(response.content, \"html.parser\")\n",
        "\n",
        "        #  Amazon's structure is complex; this is highly unlikely to work.\n",
        "        #  You will need to inspect the website's source *carefully*, and you'll\n",
        "        #  likely need to use Selenium or Playwright if the content is loaded dynamically.\n",
        "        prices = soup.select(\".price-selector\")  # Placeholder selector\n",
        "        brands = soup.select(\".brand-selector\") # Placeholder selector\n",
        "\n",
        "        oil_data = []\n",
        "        for price, brand in zip(prices, brands):\n",
        "            oil_data.append({\n",
        "                \"brand\": brand.text.strip(),\n",
        "                \"price\": price.text.strip()\n",
        "            })\n",
        "        return oil_data\n",
        "    except requests.exceptions.RequestException as e:\n",
        "        print(f\"Error fetching URL: {e}\")\n",
        "        return None\n",
        "    except Exception as e:\n",
        "        print(f\"An error occurred: {e}\")\n",
        "        return None\n",
        "\n",
        "if __name__ == \"__main__\":\n",
        "    url = \"https://www.carrefouregypt.com/mafegy/en/?utm_source=google&utm_medium=cpc&utm_campaign=eg_en_s_fnf_kw_web_carrefour_only&gad_source=1&gclid=CjwKCAiA34S7BhAtEiwACZzv4Z5cNDnHwqmF4mj2K5jLc6GyvhnVPqFEDgV6bV68jEFGkUgBMe30mBoCHFoQAvD_BwE\"\n",
        "    oil_info = scrape_oil_prices(url)\n",
        "\n",
        "    if oil_info:\n",
        "        for item in oil_info:\n",
        "            print(f\"Brand: {item['brand']}, Price: {item['price']}\")\n",
        "    else:\n",
        "        print(\"No oil price data found or an error occurred during scraping.\")"
      ],
      "metadata": {
        "id": "hgDrpbx6Etmg"
      },
      "execution_count": null,
      "outputs": []
    }
  ]
}