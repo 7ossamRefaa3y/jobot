{
  "nbformat": 4,
  "nbformat_minor": 0,
  "metadata": {
    "colab": {
      "provenance": [],
      "authorship_tag": "ABX9TyNJ8kF010qeZX1BQzaXWsWU",
      "include_colab_link": true
    },
    "kernelspec": {
      "name": "python3",
      "display_name": "Python 3"
    },
    "language_info": {
      "name": "python"
    }
  },
  "cells": [
    {
      "cell_type": "markdown",
      "metadata": {
        "id": "view-in-github",
        "colab_type": "text"
      },
      "source": [
        "<a href=\"https://colab.research.google.com/github/7ossamRefaa3y/jobot/blob/main/train.ipynb\" target=\"_parent\"><img src=\"https://colab.research.google.com/assets/colab-badge.svg\" alt=\"Open In Colab\"/></a>"
      ]
    },
    {
      "cell_type": "code",
      "source": [
        "n1 = float(input(\"Enter first number: \"))\n",
        "n2 = float(input(\"Enter second number: \"))\n",
        "op = input(\"Enter operator (+, -, *, /): \")\n",
        "\n",
        "if op == \"+\":\n",
        "    result = n1 + n2\n",
        "elif op == \"-\":\n",
        "    result = n1 - n2\n",
        "elif op == \"*\":\n",
        "    result = n1 * n2\n",
        "elif op == \"/\":\n",
        "    if n2 != 0:  # Check for division by zero\n",
        "        result = n1 / n2\n",
        "    else:\n",
        "        result = \"Division by zero error!\"\n",
        "else:\n",
        "    result = \"Invalid operator\"\n",
        "\n",
        "print(f\"Result: {result}\")\n",
        "\n",
        "\n",
        "\n",
        "\n"
      ],
      "metadata": {
        "colab": {
          "base_uri": "https://localhost:8080/"
        },
        "id": "7zVdQVkjMXRU",
        "outputId": "5011410e-fce1-4a06-ee6a-c6c819f535f1"
      },
      "execution_count": null,
      "outputs": [
        {
          "output_type": "stream",
          "name": "stdout",
          "text": [
            "Enter first number: 2\n",
            "Enter second number: 2\n",
            "Enter operator (+, -, *, /): *\n",
            "Result: 4.0\n"
          ]
        }
      ]
    },
    {
      "cell_type": "code",
      "source": [
        "from math import *\n",
        "n=(2)\n",
        "print (sqrt(4.8))"
      ],
      "metadata": {
        "colab": {
          "base_uri": "https://localhost:8080/"
        },
        "id": "uWpCymBU_YpF",
        "outputId": "b467f5fc-29ea-43ff-fad2-ed6f8b6cf9b1"
      },
      "execution_count": null,
      "outputs": [
        {
          "output_type": "stream",
          "name": "stdout",
          "text": [
            "2.1908902300206643\n"
          ]
        }
      ]
    },
    {
      "cell_type": "code",
      "source": [
        "n1 = float(input(\"inter no1 : \"))\n",
        "n2 = float(input(\"inter no2 : \"))\n",
        "op= input (\"inter op(-,+, *, /) : \")\n",
        "if op == \"-\":\n",
        "  result = n1-n2\n",
        "elif op == \"+\":\n",
        "    result = n1+n2\n",
        "elif op == \"*\":\n",
        "      result = n1*n2\n",
        "elif op == \"/\":\n",
        "        if n2 !=0 : # Check for division by zero\n",
        "          result = n1/n2\n",
        "        else :\n",
        "          result = \"You can not divide by Zero\"\n",
        "else:\n",
        "          result = \"invalid op\"\n",
        "print (f\"result = {result}\")\n",
        "\n",
        "\n"
      ],
      "metadata": {
        "id": "booTRSSQMlPk"
      },
      "execution_count": null,
      "outputs": []
    },
    {
      "cell_type": "code",
      "source": [
        "color = input(\"enter color : \")\n",
        "plural = input(\"enter plural: \")\n",
        "adj = input(\"enter adj: \")\n",
        "\n",
        "print(f\"{color} ffkvdldoo\")\n",
        "print(f\"{plural} ffkvdldoo\")\n",
        "print(f\"{adj} ffkvdldoo\")\n",
        "\n",
        "\n"
      ],
      "metadata": {
        "colab": {
          "base_uri": "https://localhost:8080/"
        },
        "id": "VVWeZtECH8iO",
        "outputId": "a8a5fb5c-be58-482d-eb64-75f1083f9556"
      },
      "execution_count": null,
      "outputs": [
        {
          "output_type": "stream",
          "name": "stdout",
          "text": [
            "green\n",
            "dev\n",
            "dev\n",
            "green ffkvdldoo\n",
            "dev ffkvdldoo\n",
            "dev ffkvdldoo\n"
          ]
        }
      ]
    },
    {
      "cell_type": "code",
      "source": [
        "freinds = [1, \"Ahmed\", 2, \"Mohammed\", 3, 4, \"Mahmoud\"]\n",
        "fr= [\"om\", \"Ab\", \"Akh\"]\n",
        "\n",
        "print(freinds.count())\n",
        "\n",
        "\n"
      ],
      "metadata": {
        "colab": {
          "base_uri": "https://localhost:8080/",
          "height": 211
        },
        "id": "XB70qJjYUJsQ",
        "outputId": "b3e6df8b-330b-42fe-f6b9-b4725dcfef8c"
      },
      "execution_count": null,
      "outputs": [
        {
          "output_type": "error",
          "ename": "TypeError",
          "evalue": "list.count() takes exactly one argument (0 given)",
          "traceback": [
            "\u001b[0;31m---------------------------------------------------------------------------\u001b[0m",
            "\u001b[0;31mTypeError\u001b[0m                                 Traceback (most recent call last)",
            "\u001b[0;32m<ipython-input-48-23d28148fe20>\u001b[0m in \u001b[0;36m<cell line: 4>\u001b[0;34m()\u001b[0m\n\u001b[1;32m      2\u001b[0m \u001b[0mfr\u001b[0m\u001b[0;34m=\u001b[0m \u001b[0;34m[\u001b[0m\u001b[0;34m\"om\"\u001b[0m\u001b[0;34m,\u001b[0m \u001b[0;34m\"Ab\"\u001b[0m\u001b[0;34m,\u001b[0m \u001b[0;34m\"Akh\"\u001b[0m\u001b[0;34m]\u001b[0m\u001b[0;34m\u001b[0m\u001b[0;34m\u001b[0m\u001b[0m\n\u001b[1;32m      3\u001b[0m \u001b[0;34m\u001b[0m\u001b[0m\n\u001b[0;32m----> 4\u001b[0;31m \u001b[0mprint\u001b[0m\u001b[0;34m(\u001b[0m\u001b[0mfreinds\u001b[0m\u001b[0;34m.\u001b[0m\u001b[0mcount\u001b[0m\u001b[0;34m(\u001b[0m\u001b[0;34m)\u001b[0m\u001b[0;34m)\u001b[0m\u001b[0;34m\u001b[0m\u001b[0;34m\u001b[0m\u001b[0m\n\u001b[0m\u001b[1;32m      5\u001b[0m \u001b[0;34m\u001b[0m\u001b[0m\n\u001b[1;32m      6\u001b[0m \u001b[0;34m\u001b[0m\u001b[0m\n",
            "\u001b[0;31mTypeError\u001b[0m: list.count() takes exactly one argument (0 given)"
          ]
        }
      ]
    },
    {
      "cell_type": "code",
      "source": [
        "\n",
        "  print (2^6)\n"
      ],
      "metadata": {
        "colab": {
          "base_uri": "https://localhost:8080/"
        },
        "id": "UYI75acv4ls5",
        "outputId": "933cc2fe-0e3e-495e-efca-3164f6c062c8"
      },
      "execution_count": 6,
      "outputs": [
        {
          "output_type": "stream",
          "name": "stdout",
          "text": [
            "4\n"
          ]
        }
      ]
    },
    {
      "cell_type": "code",
      "source": [
        "#SUM=8 WHAT IS PAIR OF NUMBER THAT SUM EQUAL EAT AT EACH list\n",
        "LIST1 = [1,2,3,9]\n",
        "#SUM=8 WHAT IS PAIR OF NUMBER THAT SUM EQUAL EAT AT EACH list\n",
        "\n",
        "for i in range(len(LIST1)):\n",
        "          if LIST1[i] + LIST2[i] == 8:\n",
        "            print(LIST1[i], LIST2[i])\n",
        "          elif LIST1[i] - LIST2[i] == 8:\n",
        "            break\n",
        "\n",
        "\n",
        "\n",
        "\n",
        "\n"
      ],
      "metadata": {
        "id": "5_AAQFztlz3H"
      },
      "execution_count": 18,
      "outputs": []
    },
    {
      "source": [
        "\n",
        "LIST1 = [1, 2, 3, 9, 7, 5, 6, 4]  # Example list\n",
        "LIST2 = [2, 2, 3, 9, 7, 5, 6, 4]  # Example list\n",
        "for i in range(len(LIST1)):\n",
        "    for j in range(i + 1, len(LIST1)):  # Start from i + 1 to avoid duplicate pairs\n",
        "        if LIST1[i] + LIST1[j] == 8 or LIST1[i] - LIST1[j] == 8 or LIST1[j] - LIST1[i] ==8 :\n",
        "            print(f\" pair1 : {LIST1[i], LIST1[j]}\")\n",
        "\n",
        "for i in range(len(LIST2)):\n",
        "    for j in range(i + 1, len(LIST2)):\n",
        "       if LIST2[i] + LIST2[j] == 8 or LIST2[i] - LIST2[j] == 8 or LIST2[j] - LIST2[i] == 8 :\n",
        "          print(f\" pair2 : {LIST2[i], LIST2[j]}\")\n",
        ""
      ],
      "cell_type": "code",
      "metadata": {
        "colab": {
          "base_uri": "https://localhost:8080/"
        },
        "id": "jjJGnxZSsmdy",
        "outputId": "9f0a2355-3ab0-4194-a5f2-e5c0a9e00869"
      },
      "execution_count": 31,
      "outputs": [
        {
          "output_type": "stream",
          "name": "stdout",
          "text": [
            " pair1 : (1, 9)\n",
            " pair1 : (1, 7)\n",
            " pair1 : (2, 6)\n",
            " pair1 : (3, 5)\n",
            " pair2 : (2, 6)\n",
            " pair2 : (2, 6)\n",
            " pair2 : (3, 5)\n"
          ]
        }
      ]
    }
  ]
}